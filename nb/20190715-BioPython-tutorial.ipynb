{
 "cells": [
  {
   "cell_type": "code",
   "execution_count": 10,
   "metadata": {},
   "outputs": [],
   "source": [
    "from pathlib import Path\n",
    "import pandas as pd\n",
    "import seaborn as sns\n",
    "from Bio import SeqIO \n",
    "from Bio import AlignIO\n",
    "from Bio import Phylo\n",
    "from Bio.Phylo.TreeConstruction import DistanceCalculator\n",
    "from Bio.Phylo.TreeConstruction import DistanceTreeConstructor"
   ]
  },
  {
   "cell_type": "markdown",
   "metadata": {},
   "source": [
    "# Reading fasta files"
   ]
  },
  {
   "cell_type": "code",
   "execution_count": 13,
   "metadata": {},
   "outputs": [
    {
     "name": "stdout",
     "output_type": "stream",
     "text": [
      "1\n",
      "Seq('GATCACAGGTCTATCACCCTATTAACCACTCACGGGAGCTCTCCATGCATTTGG...ATG', SingleLetterAlphabet())\n",
      "16579\n",
      "2\n",
      "Seq('NNNNNNNNNNNNNNNNNNNNNNNNNNNNNNNNNNNNNNNNNNNNNNNNNNNNNN...NNN', SingleLetterAlphabet())\n",
      "2460\n"
     ]
    }
   ],
   "source": [
    "from Bio import SeqIO\n",
    "\n",
    "datadir = Path('C:/Users/Mei/Documents/DCL/data01/gen/nguyen_nc_2018/20190710-320lfastas/')\n",
    "\n",
    "# Read a fasta file\n",
    "for seq_record in SeqIO.parse(datadir/'A01_L008.fasta', \"fasta\"):\n",
    "    print(seq_record.id)\n",
    "    print(repr(seq_record.seq))\n",
    "    print(len(seq_record))"
   ]
  },
  {
   "cell_type": "code",
   "execution_count": 31,
   "metadata": {},
   "outputs": [
    {
     "name": "stdout",
     "output_type": "stream",
     "text": [
      "1\n",
      "Seq('GATCACAGGTCTATCACCCTATTAACCACTCACGGGAGCTCTCCATGCATTTGG...ATG', SingleLetterAlphabet())\n",
      "16579\n",
      "2\n",
      "Seq('GATCACAGGTCTATCACCCTATTAACCACTCACGGGAGCTCTCCATGCATTTGG...ATG', SingleLetterAlphabet())\n",
      "16575\n",
      "3\n",
      "Seq('GATCACAGGTCTATCACCCTATTAACCACTCACGGGAGCTCTCCATGCATTTGG...ATG', SingleLetterAlphabet())\n",
      "16545\n",
      "4\n",
      "Seq('GATCACAGGTCTATCACCCTATTAACCACTCACGGGAGCTCTCCATGCATTTGG...ATG', SingleLetterAlphabet())\n",
      "16621\n",
      "5\n",
      "Seq('GATCACAGGTCTATCACCCTATTAACCACTCACGGGAGCTCTCCATGCATTTGG...ATG', SingleLetterAlphabet())\n",
      "16628\n",
      "6\n",
      "Seq('GATCACAGGTCTATCACCCTATTAACCACTCACGGGAGCTCTCCATGCATTTGG...ATG', SingleLetterAlphabet())\n",
      "16560\n",
      "7\n",
      "Seq('GATCACAGGTCTATCACCCTATTAACCACTCACGGGAGCTCTCCATGCATTTGG...ATG', SingleLetterAlphabet())\n",
      "16562\n",
      "8\n",
      "Seq('GATCACAGGTCTATCACCCTATTAACCACTCACGGGAGCTCTCCATGCATTTGG...ATG', SingleLetterAlphabet())\n",
      "16597\n",
      "9\n",
      "Seq('GATCACAGGTCTATCACCCTATTAACCACTCACGGGAGCTCTCCATGCATTTGG...ATG', SingleLetterAlphabet())\n",
      "16601\n"
     ]
    }
   ],
   "source": [
    "# Read in multiple sequences and save only the chrM's\n",
    "sequences = []\n",
    "counter = 0\n",
    "for seq_record in SeqIO.parse(datadir/'A0x_L008.fasta', \"fasta\"):\n",
    "    # only save chrM records\n",
    "    if 'chrM' in seq_record.description:\n",
    "        # sequentially rename the record ids\n",
    "        counter +=1\n",
    "        seq_record.id = str(counter)\n",
    "        print(seq_record.id)\n",
    "        \n",
    "        print(repr(seq_record.seq))\n",
    "        print(len(seq_record))\n",
    "        \n",
    "        sequences.append(seq_record)"
   ]
  },
  {
   "cell_type": "code",
   "execution_count": 30,
   "metadata": {},
   "outputs": [
    {
     "data": {
      "text/plain": [
       "SeqRecord(seq=Seq('GATCACAGGTCTATCACCCTATTAACCACTCACGGGAGCTCTCCATGCATTTGG...ATG', SingleLetterAlphabet()), id=1, name='1', description='1 chrM:1-16571', dbxrefs=[])"
      ]
     },
     "execution_count": 30,
     "metadata": {},
     "output_type": "execute_result"
    }
   ],
   "source": [
    "sequences[0]"
   ]
  },
  {
   "cell_type": "markdown",
   "metadata": {},
   "source": [
    "# Writing Fasta files"
   ]
  },
  {
   "cell_type": "code",
   "execution_count": 32,
   "metadata": {},
   "outputs": [
    {
     "data": {
      "text/plain": [
       "9"
      ]
     },
     "execution_count": 32,
     "metadata": {},
     "output_type": "execute_result"
    }
   ],
   "source": [
    "SeqIO.write(sequences, datadir/'A0x_L008_clean.fasta', \"fasta\")"
   ]
  },
  {
   "cell_type": "markdown",
   "metadata": {},
   "source": [
    "# Aligning Sequences"
   ]
  },
  {
   "cell_type": "markdown",
   "metadata": {},
   "source": [
    "Run MUSCLE in a command line:\n",
    "<pre>muscle3.8.31_i86win32.exe -in ..\\data01\\gen\\nguyen_nc_2018\\20190710-320lfastas\\A0x_L008_clean.fasta -out ..\\data01\\gen\\nguyen_nc_2018\\20190710-320lfastas\\A0x_L008_clean.faa</pre>\n",
    "\n",
    "This will take a while for long/many sequences.\n",
    "\n",
    "It's possible to use stdin and stdout with MUSCLE and avoid a temporary alignment file but I wouldn't recommend that for long or multiple sequences."
   ]
  },
  {
   "cell_type": "markdown",
   "metadata": {},
   "source": [
    "# Reading Alignments"
   ]
  },
  {
   "cell_type": "code",
   "execution_count": 33,
   "metadata": {},
   "outputs": [
    {
     "name": "stdout",
     "output_type": "stream",
     "text": [
      "SingleLetterAlphabet() alignment with 9 rows and 17006 columns\n",
      "GATCACAGGTCTATCACCCTATTAACCACTCACGGGAGCTCTCC...ATG 5\n",
      "GATCACAGGTCTATCACCCTATTAACCACTCACGGGAGCTCTCC...ATG 6\n",
      "GATCACAGGTCTATCACCCTATTAACCACTCACGGGAGCTCTCC...ATG 9\n",
      "GATCACAGGTCTATCACCCTATTAACCACTCACGGGAGCTCTCC...ATG 3\n",
      "GATCACAGGTCTATCACCCTATTAACCACTCACGGGAGCTCTCC...ATG 4\n",
      "GATCACAGGTCTATCACCCTATTAACCACTCACGGGAGCTCTCC...ATG 2\n",
      "GATCACAGGTCTATCACCCTATTAACCACTCACGGGAGCTCTCC...ATG 8\n",
      "GATCACAGGTCTATCACCCTATTAACCACTCACGGGAGCTCTCC...ATG 1\n",
      "GATCACAGGTCTATCACCCTATTAACCACTCACGGGAGCTCTCC...ATG 7\n"
     ]
    }
   ],
   "source": [
    "from Bio import AlignIO\n",
    "\n",
    "# read in the alignments\n",
    "alignments = AlignIO.read(datadir/'A0x_L008_clean.faa', 'fasta')\n",
    "print(alignments)"
   ]
  },
  {
   "cell_type": "markdown",
   "metadata": {},
   "source": [
    "# Calculating distance using BioPython"
   ]
  },
  {
   "cell_type": "code",
   "execution_count": 34,
   "metadata": {},
   "outputs": [
    {
     "name": "stdout",
     "output_type": "stream",
     "text": [
      "5\t0\n",
      "6\t0.027460896154298475\t0\n",
      "9\t0.0274020933788075\t0.026284840644478447\t0\n",
      "3\t0.021992238033635148\t0.023462307420910267\t0.02334470186992821\t0\n",
      "4\t0.023932729624838278\t0.023579912971892325\t0.024638362930730295\t0.02158061860519822\t0\n",
      "2\t0.021110196401270098\t0.02158061860519822\t0.023403504645419293\t0.018816888157121014\t0.020933788074797177\t0\n",
      "8\t0.02499117958367636\t0.024285546277784342\t0.02634364341996942\t0.021110196401270098\t0.023579912971892325\t0.019875338115959096\t0\n",
      "1\t0.0175820298718099\t0.021933435258144174\t0.021992238033635148\t0.01605315770904392\t0.018405268728683977\t0.016582382688462904\t0.01952252146301303\t0\n",
      "7\t0.01428907444431382\t0.014171468893331762\t0.015994354933552835\t0.010466894037398533\t0.013524638362930719\t0.009996471833470522\t0.012819005057038702\t0.008585205221686487\t0\n",
      "\t5\t6\t9\t3\t4\t2\t8\t1\t7\n"
     ]
    }
   ],
   "source": [
    "from Bio.Cluster import distancematrix\n",
    "\n",
    "# calculate the distances\n",
    "calculator = DistanceCalculator('identity')\n",
    "distance = calculator.get_distance(alignments)\n",
    "print(distance)"
   ]
  },
  {
   "cell_type": "code",
   "execution_count": 35,
   "metadata": {},
   "outputs": [
    {
     "data": {
      "image/png": "[encoded data removed]",
      "text/plain": [
       "<Figure size 432x288 with 2 Axes>"
      ]
     },
     "metadata": {
      "needs_background": "light"
     },
     "output_type": "display_data"
    }
   ],
   "source": [
    "sns.heatmap(distance);"
   ]
  },
  {
   "cell_type": "markdown",
   "metadata": {},
   "source": [
    "# Heirarchical Clustering"
   ]
  },
  {
   "cell_type": "code",
   "execution_count": 37,
   "metadata": {},
   "outputs": [
    {
     "name": "stdout",
     "output_type": "stream",
     "text": [
      "(8, 7): 4.42018e-05\n",
      "(-1, 5): 6.60602e-05\n",
      "(-2, 3): 7.94353e-05\n",
      "(4, -3): 0.000119716\n",
      "(6, -4): 0.000124404\n",
      "(-5, 0): 0.000145431\n",
      "(2, 1): 0.000154868\n",
      "(-7, -6): 0.000184677\n"
     ]
    }
   ],
   "source": [
    "from Bio.Cluster import treecluster \n",
    "tree = treecluster(distance)\n",
    "print(tree)"
   ]
  },
  {
   "cell_type": "markdown",
   "metadata": {},
   "source": [
    "No idea what the above means."
   ]
  }
 ],
 "metadata": {
  "kernelspec": {
   "display_name": "Python 3",
   "language": "python",
   "name": "python3"
  },
  "language_info": {
   "codemirror_mode": {
    "name": "ipython",
    "version": 3
   },
   "file_extension": ".py",
   "mimetype": "text/x-python",
   "name": "python",
   "nbconvert_exporter": "python",
   "pygments_lexer": "ipython3",
   "version": "3.7.3"
  }
 },
 "nbformat": 4,
 "nbformat_minor": 2
}
