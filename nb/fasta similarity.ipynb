{
 "cells": [
  {
   "cell_type": "code",
   "execution_count": 1,
   "metadata": {},
   "outputs": [],
   "source": [
    "import glob\n",
    "\n",
    "from Bio import SeqIO\n",
    "import numpy as np\n",
    "import matplotlib.pyplot as plt\n",
    "import pandas as pd\n",
    "import seaborn as sns; sns.set()\n"
   ]
  },
  {
   "cell_type": "code",
   "execution_count": 2,
   "metadata": {},
   "outputs": [],
   "source": [
    "FASTA=\"../data/gen/nguyen_nc_2018/20190702-fastas-on-hpc/1739/20lines/\""
   ]
  },
  {
   "cell_type": "code",
   "execution_count": 12,
   "metadata": {},
   "outputs": [],
   "source": [
    "labels = []\n",
    "ff = glob.glob(f\"{FASTA}*.fasta\")\n",
    "fsts = []\n",
    "for file in ff:\n",
    "    labels.append(file.split(\"/\")[-1].split(\"_\")[0])\n",
    "    for record in SeqIO.parse(file, \"fasta\"):\n",
    "        fsts.append(list(str(record.seq))) "
   ]
  },
  {
   "cell_type": "code",
   "execution_count": 13,
   "metadata": {},
   "outputs": [
    {
     "data": {
      "text/plain": [
       "['A04', 'A01', 'A07', 'A09', 'A06', 'A10', 'A12', 'A05', 'A03']"
      ]
     },
     "execution_count": 13,
     "metadata": {},
     "output_type": "execute_result"
    }
   ],
   "source": [
    "labels"
   ]
  },
  {
   "cell_type": "code",
   "execution_count": 14,
   "metadata": {},
   "outputs": [],
   "source": [
    "diffs = [[0. for x in range(len(fsts))] for y in range(len(fsts))]\n",
    "bits = {}\n",
    "for i in range(0, len(fsts)):\n",
    "        for j in range (0, len(fsts)):\n",
    "            cntr = 0\n",
    "            bit = np.zeros(len(fsts[i]),dtype=int)\n",
    "            for k in range(len(fsts[i])):\n",
    "                if fsts[i][k] != fsts[j][k]:\n",
    "                    cntr +=1\n",
    "                    bit[k] =  1\n",
    "            bits[(labels[i],labels[j])] = bit\n",
    "            diffs[i][j] = (1 - cntr/len(fsts[i]))*100"
   ]
  },
  {
   "cell_type": "code",
   "execution_count": 15,
   "metadata": {},
   "outputs": [
    {
     "data": {
      "text/plain": [
       "[1, 1, 1, 1, 1]"
      ]
     },
     "execution_count": 15,
     "metadata": {},
     "output_type": "execute_result"
    }
   ],
   "source": [
    "[bits[(\"A03\",\"A04\")][i] for i, b in enumerate(bits[(\"A01\",\"A03\")] != bits[(\"A01\",\"A04\")]) if b]"
   ]
  },
  {
   "cell_type": "markdown",
   "metadata": {},
   "source": [
    "A03 and A04 are different in 5 mutations in respect to A01"
   ]
  },
  {
   "cell_type": "code",
   "execution_count": 16,
   "metadata": {},
   "outputs": [
    {
     "data": {
      "text/plain": [
       "[(149, ('A01', 'C'), ('A03', 'T'), ('A04', 'C')),\n",
       " (194, ('A01', 'C'), ('A03', 'T'), ('A04', 'C')),\n",
       " (722, ('A01', 'T'), ('A03', 'C'), ('A04', 'T')),\n",
       " (822, ('A01', 'T'), ('A03', 'C'), ('A04', 'T')),\n",
       " (962, ('A01', 'T'), ('A03', 'A'), ('A04', 'T'))]"
      ]
     },
     "execution_count": 16,
     "metadata": {},
     "output_type": "execute_result"
    }
   ],
   "source": [
    "[(i,(\"A01\",fsts[0][i]), (\"A03\", fsts[labels.index(\"A03\")][i]), (\"A04\",fsts[labels.index(\"A04\")][i])) \n",
    "     for i, b in enumerate(bits[(\"A01\",\"A03\")] != bits[(\"A01\",\"A04\")]) if b]"
   ]
  },
  {
   "cell_type": "code",
   "execution_count": 17,
   "metadata": {},
   "outputs": [],
   "source": [
    "df=pd.DataFrame(data=diffs, columns = labels, index=labels)            "
   ]
  },
  {
   "cell_type": "code",
   "execution_count": 18,
   "metadata": {},
   "outputs": [
    {
     "data": {
      "text/html": [
       "<div>\n",
       "<style scoped>\n",
       "    .dataframe tbody tr th:only-of-type {\n",
       "        vertical-align: middle;\n",
       "    }\n",
       "\n",
       "    .dataframe tbody tr th {\n",
       "        vertical-align: top;\n",
       "    }\n",
       "\n",
       "    .dataframe thead th {\n",
       "        text-align: right;\n",
       "    }\n",
       "</style>\n",
       "<table border=\"1\" class=\"dataframe\">\n",
       "  <thead>\n",
       "    <tr style=\"text-align: right;\">\n",
       "      <th></th>\n",
       "      <th>A04</th>\n",
       "      <th>A01</th>\n",
       "      <th>A07</th>\n",
       "      <th>A09</th>\n",
       "      <th>A06</th>\n",
       "      <th>A10</th>\n",
       "      <th>A12</th>\n",
       "      <th>A05</th>\n",
       "      <th>A03</th>\n",
       "    </tr>\n",
       "  </thead>\n",
       "  <tbody>\n",
       "    <tr>\n",
       "      <th>A04</th>\n",
       "      <td>100.000000</td>\n",
       "      <td>90.701754</td>\n",
       "      <td>99.912281</td>\n",
       "      <td>99.824561</td>\n",
       "      <td>78.421053</td>\n",
       "      <td>46.140351</td>\n",
       "      <td>99.912281</td>\n",
       "      <td>89.122807</td>\n",
       "      <td>99.561404</td>\n",
       "    </tr>\n",
       "    <tr>\n",
       "      <th>A01</th>\n",
       "      <td>90.701754</td>\n",
       "      <td>100.000000</td>\n",
       "      <td>90.789474</td>\n",
       "      <td>90.701754</td>\n",
       "      <td>80.175439</td>\n",
       "      <td>45.964912</td>\n",
       "      <td>90.789474</td>\n",
       "      <td>80.000000</td>\n",
       "      <td>90.438596</td>\n",
       "    </tr>\n",
       "    <tr>\n",
       "      <th>A07</th>\n",
       "      <td>99.912281</td>\n",
       "      <td>90.789474</td>\n",
       "      <td>100.000000</td>\n",
       "      <td>99.912281</td>\n",
       "      <td>78.333333</td>\n",
       "      <td>46.052632</td>\n",
       "      <td>100.000000</td>\n",
       "      <td>89.035088</td>\n",
       "      <td>99.649123</td>\n",
       "    </tr>\n",
       "    <tr>\n",
       "      <th>A09</th>\n",
       "      <td>99.824561</td>\n",
       "      <td>90.701754</td>\n",
       "      <td>99.912281</td>\n",
       "      <td>100.000000</td>\n",
       "      <td>78.333333</td>\n",
       "      <td>46.140351</td>\n",
       "      <td>99.912281</td>\n",
       "      <td>88.947368</td>\n",
       "      <td>99.561404</td>\n",
       "    </tr>\n",
       "    <tr>\n",
       "      <th>A06</th>\n",
       "      <td>78.421053</td>\n",
       "      <td>80.175439</td>\n",
       "      <td>78.333333</td>\n",
       "      <td>78.333333</td>\n",
       "      <td>100.000000</td>\n",
       "      <td>47.105263</td>\n",
       "      <td>78.333333</td>\n",
       "      <td>67.807018</td>\n",
       "      <td>78.333333</td>\n",
       "    </tr>\n",
       "    <tr>\n",
       "      <th>A10</th>\n",
       "      <td>46.140351</td>\n",
       "      <td>45.964912</td>\n",
       "      <td>46.052632</td>\n",
       "      <td>46.140351</td>\n",
       "      <td>47.105263</td>\n",
       "      <td>100.000000</td>\n",
       "      <td>46.052632</td>\n",
       "      <td>46.403509</td>\n",
       "      <td>46.140351</td>\n",
       "    </tr>\n",
       "    <tr>\n",
       "      <th>A12</th>\n",
       "      <td>99.912281</td>\n",
       "      <td>90.789474</td>\n",
       "      <td>100.000000</td>\n",
       "      <td>99.912281</td>\n",
       "      <td>78.333333</td>\n",
       "      <td>46.052632</td>\n",
       "      <td>100.000000</td>\n",
       "      <td>89.035088</td>\n",
       "      <td>99.649123</td>\n",
       "    </tr>\n",
       "    <tr>\n",
       "      <th>A05</th>\n",
       "      <td>89.122807</td>\n",
       "      <td>80.000000</td>\n",
       "      <td>89.035088</td>\n",
       "      <td>88.947368</td>\n",
       "      <td>67.807018</td>\n",
       "      <td>46.403509</td>\n",
       "      <td>89.035088</td>\n",
       "      <td>100.000000</td>\n",
       "      <td>88.859649</td>\n",
       "    </tr>\n",
       "    <tr>\n",
       "      <th>A03</th>\n",
       "      <td>99.561404</td>\n",
       "      <td>90.438596</td>\n",
       "      <td>99.649123</td>\n",
       "      <td>99.561404</td>\n",
       "      <td>78.333333</td>\n",
       "      <td>46.140351</td>\n",
       "      <td>99.649123</td>\n",
       "      <td>88.859649</td>\n",
       "      <td>100.000000</td>\n",
       "    </tr>\n",
       "  </tbody>\n",
       "</table>\n",
       "</div>"
      ],
      "text/plain": [
       "            A04         A01         A07         A09         A06         A10  \\\n",
       "A04  100.000000   90.701754   99.912281   99.824561   78.421053   46.140351   \n",
       "A01   90.701754  100.000000   90.789474   90.701754   80.175439   45.964912   \n",
       "A07   99.912281   90.789474  100.000000   99.912281   78.333333   46.052632   \n",
       "A09   99.824561   90.701754   99.912281  100.000000   78.333333   46.140351   \n",
       "A06   78.421053   80.175439   78.333333   78.333333  100.000000   47.105263   \n",
       "A10   46.140351   45.964912   46.052632   46.140351   47.105263  100.000000   \n",
       "A12   99.912281   90.789474  100.000000   99.912281   78.333333   46.052632   \n",
       "A05   89.122807   80.000000   89.035088   88.947368   67.807018   46.403509   \n",
       "A03   99.561404   90.438596   99.649123   99.561404   78.333333   46.140351   \n",
       "\n",
       "            A12         A05         A03  \n",
       "A04   99.912281   89.122807   99.561404  \n",
       "A01   90.789474   80.000000   90.438596  \n",
       "A07  100.000000   89.035088   99.649123  \n",
       "A09   99.912281   88.947368   99.561404  \n",
       "A06   78.333333   67.807018   78.333333  \n",
       "A10   46.052632   46.403509   46.140351  \n",
       "A12  100.000000   89.035088   99.649123  \n",
       "A05   89.035088  100.000000   88.859649  \n",
       "A03   99.649123   88.859649  100.000000  "
      ]
     },
     "execution_count": 18,
     "metadata": {},
     "output_type": "execute_result"
    }
   ],
   "source": [
    "df"
   ]
  },
  {
   "cell_type": "code",
   "execution_count": null,
   "metadata": {},
   "outputs": [],
   "source": []
  }
 ],
 "metadata": {
  "kernelspec": {
   "display_name": "Python [conda env:bio] *",
   "language": "python",
   "name": "conda-env-bio-py"
  },
  "language_info": {
   "codemirror_mode": {
    "name": "ipython",
    "version": 3
   },
   "file_extension": ".py",
   "mimetype": "text/x-python",
   "name": "python",
   "nbconvert_exporter": "python",
   "pygments_lexer": "ipython3",
   "version": "3.6.8"
  }
 },
 "nbformat": 4,
 "nbformat_minor": 2
}
