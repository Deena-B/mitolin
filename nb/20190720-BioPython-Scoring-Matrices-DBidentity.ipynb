{
 "cells": [
  {
   "cell_type": "markdown",
   "metadata": {},
   "source": [
    "# Scoring Matrices"
   ]
  },
  {
   "cell_type": "code",
   "execution_count": null,
   "metadata": {},
   "outputs": [],
   "source": [
    "from Bio import AlignIO\n",
    "from Bio.Phylo.TreeConstruction import DistanceCalculator\n",
    "from Bio.Phylo.TreeConstruction import _Matrix"
   ]
  },
  {
   "cell_type": "code",
   "execution_count": 13,
   "metadata": {},
   "outputs": [
    {
     "data": {
      "text/plain": [
       "'/Users/drb/Documents/work/lawson_lab/deepcelllineage/mitolin/nb'"
      ]
     },
     "execution_count": 13,
     "metadata": {},
     "output_type": "execute_result"
    }
   ],
   "source": [
    "pwd"
   ]
  },
  {
   "cell_type": "code",
   "execution_count": 38,
   "metadata": {},
   "outputs": [
    {
     "name": "stdout",
     "output_type": "stream",
     "text": [
      "msa.phy\r\n"
     ]
    }
   ],
   "source": [
    "# Make sure msa.phy is in current directory\n",
    "!ls msa*"
   ]
  },
  {
   "cell_type": "code",
   "execution_count": 69,
   "metadata": {},
   "outputs": [
    {
     "name": "stdout",
     "output_type": "stream",
     "text": [
      "SingleLetterAlphabet() alignment with 5 rows and 13 columns\n",
      "AACGTGGCCACAT alpha\n",
      "AAGGTCGCCACAC beta\n",
      "CAGTTCGCCACAA gamma\n",
      "GAGATTTCCGCCT delta\n",
      "GAGATCTCCGCCC epsilon\n"
     ]
    }
   ],
   "source": [
    "from Bio import AlignIO\n",
    "\n",
    "# read in alignments\n",
    "alignment = AlignIO.read('msa.phy', 'phylip')\n",
    "print(alignment)"
   ]
  },
  {
   "cell_type": "code",
   "execution_count": 16,
   "metadata": {},
   "outputs": [],
   "source": [
    "from Bio.Phylo.TreeConstruction import DistanceCalculator"
   ]
  },
  {
   "cell_type": "code",
   "execution_count": 5,
   "metadata": {},
   "outputs": [
    {
     "name": "stdout",
     "output_type": "stream",
     "text": [
      "Object `DistanceCalculator` not found.\n"
     ]
    }
   ],
   "source": [
    "??DistanceCalculator"
   ]
  },
  {
   "cell_type": "markdown",
   "metadata": {},
   "source": [
    "DistanceCalculator(model='identity', skip_letters=None)\n",
    "\n",
    "- DistanceCalculator takes 2 arguments, model & skip_letters\n",
    "- default model is 'identity'\n",
    "- default of skip_letters is None\n",
    "\n",
    "From `??DistanceCalculator`\n",
    "\n",
    "- models = ['identity'] + dna_models + protein_models\n",
    "    - identity is not considered a dna model"
   ]
  },
  {
   "cell_type": "code",
   "execution_count": 36,
   "metadata": {
    "collapsed": true
   },
   "outputs": [
    {
     "data": {
      "text/plain": [
       "['identity',\n",
       " 'blastn',\n",
       " 'trans',\n",
       " 'benner6',\n",
       " 'benner22',\n",
       " 'benner74',\n",
       " 'blosum100',\n",
       " 'blosum30',\n",
       " 'blosum35',\n",
       " 'blosum40',\n",
       " 'blosum45',\n",
       " 'blosum50',\n",
       " 'blosum55',\n",
       " 'blosum60',\n",
       " 'blosum62',\n",
       " 'blosum65',\n",
       " 'blosum70',\n",
       " 'blosum75',\n",
       " 'blosum80',\n",
       " 'blosum85',\n",
       " 'blosum90',\n",
       " 'blosum95',\n",
       " 'feng',\n",
       " 'fitch',\n",
       " 'genetic',\n",
       " 'gonnet',\n",
       " 'grant',\n",
       " 'ident',\n",
       " 'johnson',\n",
       " 'levin',\n",
       " 'mclach',\n",
       " 'miyata',\n",
       " 'nwsgappep',\n",
       " 'pam120',\n",
       " 'pam180',\n",
       " 'pam250',\n",
       " 'pam30',\n",
       " 'pam300',\n",
       " 'pam60',\n",
       " 'pam90',\n",
       " 'rao',\n",
       " 'risler',\n",
       " 'structure']"
      ]
     },
     "execution_count": 36,
     "metadata": {},
     "output_type": "execute_result"
    }
   ],
   "source": [
    "# List all models\n",
    "DistanceCalculator.models"
   ]
  },
  {
   "cell_type": "code",
   "execution_count": 17,
   "metadata": {},
   "outputs": [
    {
     "data": {
      "text/plain": [
       "['blastn', 'trans']"
      ]
     },
     "execution_count": 17,
     "metadata": {},
     "output_type": "execute_result"
    }
   ],
   "source": [
    "# Only list dna_models\n",
    "DistanceCalculator.dna_models"
   ]
  },
  {
   "cell_type": "code",
   "execution_count": 37,
   "metadata": {
    "collapsed": true
   },
   "outputs": [
    {
     "data": {
      "text/plain": [
       "['benner6',\n",
       " 'benner22',\n",
       " 'benner74',\n",
       " 'blosum100',\n",
       " 'blosum30',\n",
       " 'blosum35',\n",
       " 'blosum40',\n",
       " 'blosum45',\n",
       " 'blosum50',\n",
       " 'blosum55',\n",
       " 'blosum60',\n",
       " 'blosum62',\n",
       " 'blosum65',\n",
       " 'blosum70',\n",
       " 'blosum75',\n",
       " 'blosum80',\n",
       " 'blosum85',\n",
       " 'blosum90',\n",
       " 'blosum95',\n",
       " 'feng',\n",
       " 'fitch',\n",
       " 'genetic',\n",
       " 'gonnet',\n",
       " 'grant',\n",
       " 'ident',\n",
       " 'johnson',\n",
       " 'levin',\n",
       " 'mclach',\n",
       " 'miyata',\n",
       " 'nwsgappep',\n",
       " 'pam120',\n",
       " 'pam180',\n",
       " 'pam250',\n",
       " 'pam30',\n",
       " 'pam300',\n",
       " 'pam60',\n",
       " 'pam90',\n",
       " 'rao',\n",
       " 'risler',\n",
       " 'structure']"
      ]
     },
     "execution_count": 37,
     "metadata": {},
     "output_type": "execute_result"
    }
   ],
   "source": [
    "# Only list protein_models \n",
    "# Most models are for proteins!\n",
    "DistanceCalculator.protein_models"
   ]
  },
  {
   "cell_type": "markdown",
   "metadata": {},
   "source": [
    "msa stands for \"Multiple Sequence Alignment\""
   ]
  },
  {
   "cell_type": "code",
   "execution_count": 95,
   "metadata": {},
   "outputs": [
    {
     "data": {
      "text/plain": [
       "<function Bio.Phylo.TreeConstruction.DistanceCalculator.get_distance(self, msa)>"
      ]
     },
     "execution_count": 95,
     "metadata": {},
     "output_type": "execute_result"
    }
   ],
   "source": [
    "DistanceCalculator.get_distance"
   ]
  },
  {
   "cell_type": "code",
   "execution_count": 94,
   "metadata": {},
   "outputs": [
    {
     "data": {
      "text/plain": [
       "[[5], [-4, 5], [-4, -4, 5], [-4, -4, -4, 5]]"
      ]
     },
     "execution_count": 94,
     "metadata": {},
     "output_type": "execute_result"
    }
   ],
   "source": [
    "DistanceCalculator.blastn"
   ]
  },
  {
   "cell_type": "code",
   "execution_count": 93,
   "metadata": {},
   "outputs": [
    {
     "data": {
      "text/plain": [
       "[[6], [-5, 6], [-5, -1, 6], [-1, -5, -5, 6]]"
      ]
     },
     "execution_count": 93,
     "metadata": {},
     "output_type": "execute_result"
    }
   ],
   "source": [
    "DistanceCalculator.trans"
   ]
  },
  {
   "cell_type": "code",
   "execution_count": 90,
   "metadata": {},
   "outputs": [
    {
     "data": {
      "text/plain": [
       "{'blastn': [[5], [-4, 5], [-4, -4, 5], [-4, -4, -4, 5]],\n",
       " 'trans': [[6], [-5, 6], [-5, -1, 6], [-1, -5, -5, 6]]}"
      ]
     },
     "execution_count": 90,
     "metadata": {},
     "output_type": "execute_result"
    }
   ],
   "source": [
    "DistanceCalculator.dna_matrices"
   ]
  },
  {
   "cell_type": "code",
   "execution_count": 42,
   "metadata": {},
   "outputs": [
    {
     "name": "stdout",
     "output_type": "stream",
     "text": [
      "alpha\t0\n",
      "beta\t0.23076923076923073\t0\n",
      "gamma\t0.3846153846153846\t0.23076923076923073\t0\n",
      "delta\t0.5384615384615384\t0.5384615384615384\t0.5384615384615384\t0\n",
      "epsilon\t0.6153846153846154\t0.3846153846153846\t0.46153846153846156\t0.15384615384615385\t0\n",
      "\talpha\tbeta\tgamma\tdelta\tepsilon\n"
     ]
    }
   ],
   "source": [
    "# calculate the distances using the identity model\n",
    "calculator = DistanceCalculator('identity')\n",
    "distance = calculator.get_distance(alignment)\n",
    "print(distance)"
   ]
  },
  {
   "cell_type": "markdown",
   "metadata": {},
   "source": [
    "## Identity (aka Hamming distance) calculation"
   ]
  },
  {
   "cell_type": "code",
   "execution_count": 67,
   "metadata": {},
   "outputs": [
    {
     "data": {
      "text/plain": [
       "True"
      ]
     },
     "execution_count": 67,
     "metadata": {},
     "output_type": "execute_result"
    }
   ],
   "source": [
    "0 == False"
   ]
  },
  {
   "cell_type": "code",
   "execution_count": 68,
   "metadata": {},
   "outputs": [
    {
     "data": {
      "text/plain": [
       "True"
      ]
     },
     "execution_count": 68,
     "metadata": {},
     "output_type": "execute_result"
    }
   ],
   "source": [
    "1 == True"
   ]
  },
  {
   "cell_type": "code",
   "execution_count": 70,
   "metadata": {},
   "outputs": [
    {
     "name": "stdout",
     "output_type": "stream",
     "text": [
      "A\n",
      "A\n"
     ]
    }
   ],
   "source": [
    "str1 = 'A'\n",
    "str2 = 'A'\n",
    "print(str1)\n",
    "print(str2)"
   ]
  },
  {
   "cell_type": "code",
   "execution_count": 71,
   "metadata": {},
   "outputs": [
    {
     "data": {
      "text/plain": [
       "False"
      ]
     },
     "execution_count": 71,
     "metadata": {},
     "output_type": "execute_result"
    }
   ],
   "source": [
    "noteq = str1 != str2; noteq"
   ]
  },
  {
   "cell_type": "code",
   "execution_count": 74,
   "metadata": {},
   "outputs": [
    {
     "name": "stdout",
     "output_type": "stream",
     "text": [
      "A\n",
      "B\n"
     ]
    }
   ],
   "source": [
    "str3 = 'A'\n",
    "str4 = 'B'\n",
    "print(delta)\n",
    "print(gamma)"
   ]
  },
  {
   "cell_type": "code",
   "execution_count": 75,
   "metadata": {},
   "outputs": [
    {
     "data": {
      "text/plain": [
       "True"
      ]
     },
     "execution_count": 75,
     "metadata": {},
     "output_type": "execute_result"
    }
   ],
   "source": [
    "eq = str3 != str4; eq"
   ]
  },
  {
   "cell_type": "code",
   "execution_count": 63,
   "metadata": {},
   "outputs": [
    {
     "data": {
      "text/plain": [
       "0"
      ]
     },
     "execution_count": 63,
     "metadata": {},
     "output_type": "execute_result"
    }
   ],
   "source": [
    "sum = 0; sum"
   ]
  },
  {
   "cell_type": "code",
   "execution_count": 65,
   "metadata": {},
   "outputs": [
    {
     "data": {
      "text/plain": [
       "1"
      ]
     },
     "execution_count": 65,
     "metadata": {},
     "output_type": "execute_result"
    }
   ],
   "source": [
    "plus_eq = sum + eq; plus_eq"
   ]
  },
  {
   "cell_type": "code",
   "execution_count": 66,
   "metadata": {},
   "outputs": [
    {
     "data": {
      "text/plain": [
       "0"
      ]
     },
     "execution_count": 66,
     "metadata": {},
     "output_type": "execute_result"
    }
   ],
   "source": [
    "plus_noteq = sum + noteq; plus_noteq"
   ]
  },
  {
   "cell_type": "code",
   "execution_count": 76,
   "metadata": {},
   "outputs": [
    {
     "name": "stdout",
     "output_type": "stream",
     "text": [
      "AACGTGGCCACAT\n",
      "AAGGTCGCCACAC\n"
     ]
    }
   ],
   "source": [
    "alpha = str(alignment[0].seq)\n",
    "beta = str(alignment[1].seq)\n",
    "print(alpha)\n",
    "print(beta)"
   ]
  },
  {
   "cell_type": "markdown",
   "metadata": {},
   "source": [
    "AACGTGGCCACAT\n",
    "AAGGTCGCCACAC\n",
    "0010010000001\n",
    "\n"
   ]
  },
  {
   "cell_type": "code",
   "execution_count": 77,
   "metadata": {},
   "outputs": [
    {
     "data": {
      "text/plain": [
       "13"
      ]
     },
     "execution_count": 77,
     "metadata": {},
     "output_type": "execute_result"
    }
   ],
   "source": [
    "len(alpha)"
   ]
  },
  {
   "cell_type": "code",
   "execution_count": 78,
   "metadata": {},
   "outputs": [
    {
     "data": {
      "text/plain": [
       "0.23076923076923078"
      ]
     },
     "execution_count": 78,
     "metadata": {},
     "output_type": "execute_result"
    }
   ],
   "source": [
    "3/13"
   ]
  },
  {
   "cell_type": "code",
   "execution_count": 83,
   "metadata": {},
   "outputs": [
    {
     "name": "stdout",
     "output_type": "stream",
     "text": [
      "('A',)\n",
      "('A',)\n",
      "('C',)\n",
      "('G',)\n",
      "('T',)\n",
      "('G',)\n",
      "('G',)\n",
      "('C',)\n",
      "('C',)\n",
      "('A',)\n",
      "('C',)\n",
      "('A',)\n",
      "('T',)\n"
     ]
    }
   ],
   "source": [
    "for x in zip(alpha):\n",
    "    print(x)"
   ]
  },
  {
   "cell_type": "code",
   "execution_count": 45,
   "metadata": {},
   "outputs": [],
   "source": [
    "def hamming_distance(alpha, beta):\n",
    "    sum = 0\n",
    "    for s1, s2 in zip(alpha, beta):\n",
    "        sum += (s1 != s2)\n",
    "        \n",
    "    score = sum / len(alpha)\n",
    "    return score"
   ]
  },
  {
   "cell_type": "code",
   "execution_count": 46,
   "metadata": {},
   "outputs": [
    {
     "data": {
      "text/plain": [
       "0.23076923076923078"
      ]
     },
     "execution_count": 46,
     "metadata": {},
     "output_type": "execute_result"
    }
   ],
   "source": [
    "hamming_distance(alpha, beta)"
   ]
  },
  {
   "cell_type": "markdown",
   "metadata": {},
   "source": [
    "## Blastn matrix"
   ]
  },
  {
   "cell_type": "code",
   "execution_count": 89,
   "metadata": {},
   "outputs": [
    {
     "name": "stdout",
     "output_type": "stream",
     "text": [
      "alpha\t0\n",
      "beta\t0.41538461538461535\t0\n",
      "gamma\t0.6923076923076923\t0.41538461538461535\t0\n",
      "delta\t0.9692307692307692\t0.9692307692307692\t0.9692307692307692\t0\n",
      "epsilon\t1.1076923076923078\t0.6923076923076923\t0.8307692307692307\t0.27692307692307694\t0\n",
      "\talpha\tbeta\tgamma\tdelta\tepsilon\n"
     ]
    }
   ],
   "source": [
    "calculator = DistanceCalculator('blastn')\n",
    "distance = calculator.get_distance(alignment)\n",
    "print(distance)"
   ]
  },
  {
   "cell_type": "code",
   "execution_count": 23,
   "metadata": {},
   "outputs": [
    {
     "data": {
      "text/plain": [
       "['A', 'T', 'C', 'G']"
      ]
     },
     "execution_count": 23,
     "metadata": {},
     "output_type": "execute_result"
    }
   ],
   "source": [
    "calculator.dna_alphabet"
   ]
  },
  {
   "cell_type": "code",
   "execution_count": 25,
   "metadata": {},
   "outputs": [
    {
     "data": {
      "text/plain": [
       "('-', '*')"
      ]
     },
     "execution_count": 25,
     "metadata": {},
     "output_type": "execute_result"
    }
   ],
   "source": [
    "calculator.skip_letters"
   ]
  },
  {
   "cell_type": "markdown",
   "metadata": {},
   "source": [
    "#### Scoring: \n",
    "\n",
    "- +5 for a match \n",
    "- -4 for a mismatch \n",
    "- 0 for a gap (aka skip_letter)"
   ]
  },
  {
   "cell_type": "code",
   "execution_count": 3,
   "metadata": {},
   "outputs": [],
   "source": [
    "#      A  T  C  G  -  *\n",
    "#   A  5           0  0  \n",
    "#   T -4  5        0  0 \n",
    "#   C -4 -4  5     0  0 \n",
    "#   G -4 -4 -4  5  0  0   "
   ]
  },
  {
   "cell_type": "code",
   "execution_count": 87,
   "metadata": {},
   "outputs": [
    {
     "data": {
      "text/plain": [
       "[[5], [-4, 5], [-4, -4, 5], [-4, -4, -4, 5]]"
      ]
     },
     "execution_count": 87,
     "metadata": {},
     "output_type": "execute_result"
    }
   ],
   "source": [
    "calculator.dna_matrices[\"blastn\"]"
   ]
  },
  {
   "cell_type": "code",
   "execution_count": 26,
   "metadata": {},
   "outputs": [],
   "source": [
    "def get_distance(seq1, seq2, matrix, skip_letters):\n",
    "    \"\"\"Returns a value between \n",
    "        0 (identical sequences) and \n",
    "        1 (completely different, or seq1 is an empty string.)\"\"\"\n",
    "    \n",
    "    score = 0\n",
    "    max_score = 0\n",
    "    for i in range(0, len(seq1)):\n",
    "        nt1 = seq1[i] \n",
    "        nt2 = seq2[i] \n",
    "        \n",
    "        if nt1 in skip_letters or nt2 in skip_letters: \n",
    "            continue\n",
    "        \n",
    "        score += matrix[nt1, nt2]\n",
    "        max_score += matrix[nt1, nt1]\n",
    "    \n",
    "    print(score)\n",
    "    print(max_score)\n",
    "    return 1 - (score / max_score)    "
   ]
  },
  {
   "cell_type": "code",
   "execution_count": 84,
   "metadata": {},
   "outputs": [
    {
     "name": "stdout",
     "output_type": "stream",
     "text": [
      "AACGTGGCCACAT\n",
      "AAGGTCGCCACAC\n"
     ]
    }
   ],
   "source": [
    "print(alpha)\n",
    "print(beta)"
   ]
  },
  {
   "cell_type": "code",
   "execution_count": 28,
   "metadata": {},
   "outputs": [
    {
     "name": "stdout",
     "output_type": "stream",
     "text": [
      "38\n",
      "65\n"
     ]
    },
    {
     "data": {
      "text/plain": [
       "0.41538461538461535"
      ]
     },
     "execution_count": 28,
     "metadata": {},
     "output_type": "execute_result"
    }
   ],
   "source": [
    "from Bio.Phylo.TreeConstruction import _Matrix\n",
    "\n",
    "matrix = _Matrix(calculator.dna_alphabet, calculator.dna_matrices['blastn']) \n",
    "get_distance(alpha, beta, matrix, calculator.skip_letters)"
   ]
  },
  {
   "cell_type": "markdown",
   "metadata": {},
   "source": [
    "## Transition Transversion Matrix"
   ]
  },
  {
   "cell_type": "markdown",
   "metadata": {},
   "source": [
    "Paraphrased from https://en.wikipedia.org/wiki/Substitution_matrix\n",
    "\n",
    "\"Transition\" is used to indicate substitutions that are between the two-ring purines (A → G and G → A) or are between the one-ring pyrimidines (C → T and T → C)<br>\n",
    "\n",
    "\"Transversion\" is the term used to indicate the slower-rate substitutions that change a purine to a pyrimidine or vice versa (A ↔ C, A ↔ T, G ↔ C, and G ↔ T)"
   ]
  },
  {
   "cell_type": "code",
   "execution_count": 86,
   "metadata": {},
   "outputs": [
    {
     "name": "stdout",
     "output_type": "stream",
     "text": [
      "alpha\t0\n",
      "beta\t0.3717948717948718\t0\n",
      "gamma\t0.7051282051282051\t0.42307692307692313\t0\n",
      "delta\t0.8333333333333334\t0.7307692307692308\t0.8846153846153846\t0\n",
      "epsilon\t0.9230769230769231\t0.5512820512820513\t0.7948717948717949\t0.17948717948717952\t0\n",
      "\talpha\tbeta\tgamma\tdelta\tepsilon\n"
     ]
    }
   ],
   "source": [
    "calculator = DistanceCalculator('trans')\n",
    "distance = calculator.get_distance(alignment)\n",
    "print(distance)"
   ]
  },
  {
   "cell_type": "code",
   "execution_count": 30,
   "metadata": {},
   "outputs": [
    {
     "name": "stdout",
     "output_type": "stream",
     "text": [
      "[[6], [-5, 6], [-5, -1, 6], [-1, -5, -5, 6]]\n"
     ]
    }
   ],
   "source": [
    "print(calculator.dna_matrices[\"trans\"])"
   ]
  },
  {
   "cell_type": "code",
   "execution_count": 31,
   "metadata": {},
   "outputs": [
    {
     "data": {
      "text/plain": [
       "('-', '*')"
      ]
     },
     "execution_count": 31,
     "metadata": {},
     "output_type": "execute_result"
    }
   ],
   "source": [
    "calculator.skip_letters"
   ]
  },
  {
   "cell_type": "markdown",
   "metadata": {},
   "source": [
    "+6 for a match, -5 for a transversion, -1 for a transition, 0 for a gap"
   ]
  },
  {
   "cell_type": "code",
   "execution_count": 32,
   "metadata": {},
   "outputs": [
    {
     "name": "stdout",
     "output_type": "stream",
     "text": [
      "AACGTGGCCACAT\n",
      "AAGGTCGCCACAC\n"
     ]
    }
   ],
   "source": [
    "print(alpha)\n",
    "print(beta)"
   ]
  },
  {
   "cell_type": "code",
   "execution_count": 33,
   "metadata": {},
   "outputs": [
    {
     "name": "stdout",
     "output_type": "stream",
     "text": [
      "49\n",
      "78\n"
     ]
    },
    {
     "data": {
      "text/plain": [
       "0.3717948717948718"
      ]
     },
     "execution_count": 33,
     "metadata": {},
     "output_type": "execute_result"
    }
   ],
   "source": [
    "matrix = _Matrix(calculator.dna_alphabet, calculator.dna_matrices['trans']) \n",
    "get_distance(alpha, beta, matrix, calculator.skip_letters)"
   ]
  }
 ],
 "metadata": {
  "kernelspec": {
   "display_name": "biopy",
   "language": "python",
   "name": "biopy"
  },
  "language_info": {
   "codemirror_mode": {
    "name": "ipython",
    "version": 3
   },
   "file_extension": ".py",
   "mimetype": "text/x-python",
   "name": "python",
   "nbconvert_exporter": "python",
   "pygments_lexer": "ipython3",
   "version": "3.7.3"
  }
 },
 "nbformat": 4,
 "nbformat_minor": 2
}
