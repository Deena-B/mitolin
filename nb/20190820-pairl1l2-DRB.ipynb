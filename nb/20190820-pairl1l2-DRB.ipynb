{
 "cells": [
  {
   "cell_type": "markdown",
   "metadata": {},
   "source": [
    "## This notebook does the following\n",
    "- Reads in two files containing filenames \n",
    "- Examines the lists of filenames to see which ones don't have a matching pair\n",
    "- Outputs three lists: \n",
    "    - a list of L001 filenames that have a partner for merge\n",
    "    - a list of L002 filenames that have a partner for merge\n",
    "    - a list of filenames that don't have a partner & therefore don't need to be merged\n",
    "    \n",
    "**Scroll to the bottom of this notebook to see a summary of file numbers**"
   ]
  },
  {
   "cell_type": "markdown",
   "metadata": {},
   "source": [
    "## Navigate to the directory with the lists"
   ]
  },
  {
   "cell_type": "code",
   "execution_count": 1,
   "metadata": {},
   "outputs": [
    {
     "name": "stdout",
     "output_type": "stream",
     "text": [
      "/Users/drb/Documents/work/lawson_lab/deepcelllineage/mitolin/data/gen/nguyen_nc_2018\n"
     ]
    }
   ],
   "source": [
    "# navigate to parent folder of generated data\n",
    "# this is should be a location on your laptop\n",
    "%cd ~/Documents/work/lawson_lab/deepcelllineage/mitolin/data/gen/nguyen_nc_2018/"
   ]
  },
  {
   "cell_type": "code",
   "execution_count": 2,
   "metadata": {},
   "outputs": [
    {
     "name": "stdout",
     "output_type": "stream",
     "text": [
      "\u001b[34m20190502-KB\u001b[m\u001b[m\r\n",
      "\u001b[34m20190527-pairr1r2\u001b[m\u001b[m\r\n",
      "\u001b[34m20190613-fasta-on-laptop\u001b[m\u001b[m\r\n",
      "\u001b[34m20190613-fastas\u001b[m\u001b[m\r\n",
      "\u001b[34m20190702-fastas-on-hpc\u001b[m\u001b[m\r\n",
      "\u001b[34m20190809-fastq2uamgfil\u001b[m\u001b[m\r\n",
      "\u001b[34m20190809-r1r2lists-i1-rename\u001b[m\u001b[m\r\n",
      "\u001b[34m20190820-pairlanelists-DRB\u001b[m\u001b[m\r\n",
      "\u001b[34m20190821-uamgfil2bqsrecal-DRB\u001b[m\u001b[m\r\n"
     ]
    }
   ],
   "source": [
    "# show folder names\n",
    "!ls -1"
   ]
  },
  {
   "cell_type": "code",
   "execution_count": 3,
   "metadata": {},
   "outputs": [
    {
     "name": "stdout",
     "output_type": "stream",
     "text": [
      "/Users/drb/Documents/work/lawson_lab/deepcelllineage/mitolin/data/gen/nguyen_nc_2018/20190820-pairlanelists-DRB\n"
     ]
    }
   ],
   "source": [
    "# move to folder with lists\n",
    "%cd ~/Documents/work/lawson_lab/deepcelllineage/mitolin/data/gen/nguyen_nc_2018/20190820-pairlanelists-DRB/"
   ]
  },
  {
   "cell_type": "code",
   "execution_count": 4,
   "metadata": {},
   "outputs": [
    {
     "name": "stdout",
     "output_type": "stream",
     "text": [
      "cellslist.txt          lane2list-paired.txt   unpairedlist.txt\r\n",
      "lane1list-paired.txt   lane2list.txt          unpairedlistnolane.txt\r\n",
      "lane1list.txt          lanesmgdlist.txt\r\n"
     ]
    }
   ],
   "source": [
    "# check the lists you expect are there\n",
    "!ls"
   ]
  },
  {
   "cell_type": "code",
   "execution_count": 5,
   "metadata": {},
   "outputs": [
    {
     "name": "stdout",
     "output_type": "stream",
     "text": [
      "filtered-uamerged-aligned-i1-lib001-A01-L001.bam\r\n",
      "filtered-uamerged-aligned-i1-lib001-A02-L001.bam\r\n",
      "filtered-uamerged-aligned-i1-lib001-A03-L001.bam\r\n",
      "filtered-uamerged-aligned-i1-lib001-A04-L001.bam\r\n",
      "filtered-uamerged-aligned-i1-lib001-A05-L001.bam\r\n",
      "filtered-uamerged-aligned-i1-lib001-A06-L001.bam\r\n",
      "filtered-uamerged-aligned-i1-lib001-A07-L001.bam\r\n",
      "filtered-uamerged-aligned-i1-lib001-A08-L001.bam\r\n",
      "filtered-uamerged-aligned-i1-lib001-A09-L001.bam\r\n",
      "filtered-uamerged-aligned-i1-lib001-A10-L001.bam\r\n",
      "filtered-uamerged-aligned-i1-lib001-A11-L001.bam\r\n",
      "filtered-uamerged-aligned-i1-lib001-A12-L001.bam\r\n"
     ]
    }
   ],
   "source": [
    "# view the first 10 lines of text in your list\n",
    "!head -12 lane1list.txt"
   ]
  },
  {
   "cell_type": "code",
   "execution_count": 6,
   "metadata": {},
   "outputs": [],
   "source": [
    "# create variable for input files\n",
    "file1 = 'lane1list.txt'\n",
    "file2 = 'lane2list.txt'"
   ]
  },
  {
   "cell_type": "markdown",
   "metadata": {},
   "source": [
    "## Make sets with L001 and L002 files"
   ]
  },
  {
   "cell_type": "markdown",
   "metadata": {},
   "source": [
    "Read the lines of a file into a set object"
   ]
  },
  {
   "cell_type": "code",
   "execution_count": 7,
   "metadata": {},
   "outputs": [],
   "source": [
    "set1 = set()\n",
    "with open(file1) as r1:\n",
    "    for line in r1:\n",
    "        set1.add(line)"
   ]
  },
  {
   "cell_type": "code",
   "execution_count": 8,
   "metadata": {},
   "outputs": [
    {
     "data": {
      "text/plain": [
       "{'filtered-uamerged-aligned-i1-lib001-A01-L001.bam\\n',\n",
       " 'filtered-uamerged-aligned-i1-lib001-A02-L001.bam\\n',\n",
       " 'filtered-uamerged-aligned-i1-lib001-A03-L001.bam\\n',\n",
       " 'filtered-uamerged-aligned-i1-lib001-A04-L001.bam\\n',\n",
       " 'filtered-uamerged-aligned-i1-lib001-A05-L001.bam\\n',\n",
       " 'filtered-uamerged-aligned-i1-lib001-A06-L001.bam\\n',\n",
       " 'filtered-uamerged-aligned-i1-lib001-A07-L001.bam\\n',\n",
       " 'filtered-uamerged-aligned-i1-lib001-A08-L001.bam\\n',\n",
       " 'filtered-uamerged-aligned-i1-lib001-A09-L001.bam\\n',\n",
       " 'filtered-uamerged-aligned-i1-lib001-A10-L001.bam\\n',\n",
       " 'filtered-uamerged-aligned-i1-lib001-A11-L001.bam\\n',\n",
       " 'filtered-uamerged-aligned-i1-lib001-A12-L001.bam\\n',\n",
       " 'filtered-uamerged-aligned-i1-lib001-B01-L001.bam\\n',\n",
       " 'filtered-uamerged-aligned-i1-lib001-B02-L001.bam\\n',\n",
       " 'filtered-uamerged-aligned-i1-lib001-B03-L001.bam\\n',\n",
       " 'filtered-uamerged-aligned-i1-lib001-B04-L001.bam\\n',\n",
       " 'filtered-uamerged-aligned-i1-lib001-B05-L001.bam\\n',\n",
       " 'filtered-uamerged-aligned-i1-lib001-B06-L001.bam\\n',\n",
       " 'filtered-uamerged-aligned-i1-lib001-B07-L001.bam\\n',\n",
       " 'filtered-uamerged-aligned-i1-lib001-B08-L001.bam\\n',\n",
       " 'filtered-uamerged-aligned-i1-lib001-B09-L001.bam\\n',\n",
       " 'filtered-uamerged-aligned-i1-lib001-B10-L001.bam\\n',\n",
       " 'filtered-uamerged-aligned-i1-lib001-B11-L001.bam\\n',\n",
       " 'filtered-uamerged-aligned-i1-lib001-B12-L001.bam\\n',\n",
       " 'filtered-uamerged-aligned-i1-lib001-C01-L001.bam\\n',\n",
       " 'filtered-uamerged-aligned-i1-lib001-C02-L001.bam\\n',\n",
       " 'filtered-uamerged-aligned-i1-lib001-C03-L001.bam\\n',\n",
       " 'filtered-uamerged-aligned-i1-lib001-C04-L001.bam\\n',\n",
       " 'filtered-uamerged-aligned-i1-lib001-C05-L001.bam\\n',\n",
       " 'filtered-uamerged-aligned-i1-lib001-C06-L001.bam\\n',\n",
       " 'filtered-uamerged-aligned-i1-lib001-C07-L001.bam\\n',\n",
       " 'filtered-uamerged-aligned-i1-lib001-C08-L001.bam\\n',\n",
       " 'filtered-uamerged-aligned-i1-lib001-C09-L001.bam\\n',\n",
       " 'filtered-uamerged-aligned-i1-lib001-C10-L001.bam\\n',\n",
       " 'filtered-uamerged-aligned-i1-lib001-C11-L001.bam\\n',\n",
       " 'filtered-uamerged-aligned-i1-lib001-C12-L001.bam\\n',\n",
       " 'filtered-uamerged-aligned-i1-lib001-D01-L001.bam\\n',\n",
       " 'filtered-uamerged-aligned-i1-lib001-D02-L001.bam\\n',\n",
       " 'filtered-uamerged-aligned-i1-lib001-D03-L001.bam\\n',\n",
       " 'filtered-uamerged-aligned-i1-lib001-D04-L001.bam\\n',\n",
       " 'filtered-uamerged-aligned-i1-lib001-D05-L001.bam\\n',\n",
       " 'filtered-uamerged-aligned-i1-lib001-D06-L001.bam\\n',\n",
       " 'filtered-uamerged-aligned-i1-lib001-D07-L001.bam\\n',\n",
       " 'filtered-uamerged-aligned-i1-lib001-D08-L001.bam\\n',\n",
       " 'filtered-uamerged-aligned-i1-lib001-D09-L001.bam\\n',\n",
       " 'filtered-uamerged-aligned-i1-lib001-D10-L001.bam\\n',\n",
       " 'filtered-uamerged-aligned-i1-lib001-D11-L001.bam\\n',\n",
       " 'filtered-uamerged-aligned-i1-lib001-D12-L001.bam\\n',\n",
       " 'filtered-uamerged-aligned-i1-lib001-E01-L001.bam\\n',\n",
       " 'filtered-uamerged-aligned-i1-lib001-E02-L001.bam\\n',\n",
       " 'filtered-uamerged-aligned-i1-lib001-E03-L001.bam\\n',\n",
       " 'filtered-uamerged-aligned-i1-lib001-E04-L001.bam\\n',\n",
       " 'filtered-uamerged-aligned-i1-lib001-E05-L001.bam\\n',\n",
       " 'filtered-uamerged-aligned-i1-lib001-E06-L001.bam\\n',\n",
       " 'filtered-uamerged-aligned-i1-lib001-E07-L001.bam\\n',\n",
       " 'filtered-uamerged-aligned-i1-lib001-E08-L001.bam\\n',\n",
       " 'filtered-uamerged-aligned-i1-lib001-E09-L001.bam\\n',\n",
       " 'filtered-uamerged-aligned-i1-lib001-E10-L001.bam\\n',\n",
       " 'filtered-uamerged-aligned-i1-lib001-E11-L001.bam\\n',\n",
       " 'filtered-uamerged-aligned-i1-lib001-E12-L001.bam\\n',\n",
       " 'filtered-uamerged-aligned-i1-lib001-F01-L001.bam\\n',\n",
       " 'filtered-uamerged-aligned-i1-lib001-F02-L001.bam\\n',\n",
       " 'filtered-uamerged-aligned-i1-lib001-F03-L001.bam\\n',\n",
       " 'filtered-uamerged-aligned-i1-lib001-F04-L001.bam\\n',\n",
       " 'filtered-uamerged-aligned-i1-lib001-F05-L001.bam\\n',\n",
       " 'filtered-uamerged-aligned-i1-lib001-F06-L001.bam\\n',\n",
       " 'filtered-uamerged-aligned-i1-lib001-F07-L001.bam\\n',\n",
       " 'filtered-uamerged-aligned-i1-lib001-F08-L001.bam\\n',\n",
       " 'filtered-uamerged-aligned-i1-lib001-F09-L001.bam\\n',\n",
       " 'filtered-uamerged-aligned-i1-lib001-F10-L001.bam\\n',\n",
       " 'filtered-uamerged-aligned-i1-lib001-F11-L001.bam\\n',\n",
       " 'filtered-uamerged-aligned-i1-lib001-F12-L001.bam\\n',\n",
       " 'filtered-uamerged-aligned-i1-lib001-G01-L001.bam\\n',\n",
       " 'filtered-uamerged-aligned-i1-lib001-G02-L001.bam\\n',\n",
       " 'filtered-uamerged-aligned-i1-lib001-G03-L001.bam\\n',\n",
       " 'filtered-uamerged-aligned-i1-lib001-G04-L001.bam\\n',\n",
       " 'filtered-uamerged-aligned-i1-lib001-G05-L001.bam\\n',\n",
       " 'filtered-uamerged-aligned-i1-lib001-G06-L001.bam\\n',\n",
       " 'filtered-uamerged-aligned-i1-lib001-G07-L001.bam\\n',\n",
       " 'filtered-uamerged-aligned-i1-lib001-G08-L001.bam\\n',\n",
       " 'filtered-uamerged-aligned-i1-lib001-G09-L001.bam\\n',\n",
       " 'filtered-uamerged-aligned-i1-lib001-G10-L001.bam\\n',\n",
       " 'filtered-uamerged-aligned-i1-lib001-G11-L001.bam\\n',\n",
       " 'filtered-uamerged-aligned-i1-lib001-G12-L001.bam\\n',\n",
       " 'filtered-uamerged-aligned-i1-lib001-H01-L001.bam\\n',\n",
       " 'filtered-uamerged-aligned-i1-lib001-H02-L001.bam\\n',\n",
       " 'filtered-uamerged-aligned-i1-lib001-H03-L001.bam\\n',\n",
       " 'filtered-uamerged-aligned-i1-lib001-H04-L001.bam\\n',\n",
       " 'filtered-uamerged-aligned-i1-lib001-H05-L001.bam\\n',\n",
       " 'filtered-uamerged-aligned-i1-lib001-H06-L001.bam\\n',\n",
       " 'filtered-uamerged-aligned-i1-lib001-H07-L001.bam\\n',\n",
       " 'filtered-uamerged-aligned-i1-lib001-H08-L001.bam\\n',\n",
       " 'filtered-uamerged-aligned-i1-lib001-H09-L001.bam\\n',\n",
       " 'filtered-uamerged-aligned-i1-lib001-H10-L001.bam\\n',\n",
       " 'filtered-uamerged-aligned-i1-lib001-H11-L001.bam\\n',\n",
       " 'filtered-uamerged-aligned-i1-lib001-H12-L001.bam\\n',\n",
       " 'filtered-uamerged-aligned-i1-lib002-A02-L001.bam\\n',\n",
       " 'filtered-uamerged-aligned-i1-lib002-A04-L001.bam\\n',\n",
       " 'filtered-uamerged-aligned-i1-lib002-A06-L001.bam\\n',\n",
       " 'filtered-uamerged-aligned-i1-lib002-A09-L001.bam\\n',\n",
       " 'filtered-uamerged-aligned-i1-lib002-A12-L001.bam\\n',\n",
       " 'filtered-uamerged-aligned-i1-lib002-B01-L001.bam\\n',\n",
       " 'filtered-uamerged-aligned-i1-lib002-B02-L001.bam\\n',\n",
       " 'filtered-uamerged-aligned-i1-lib002-B03-L001.bam\\n',\n",
       " 'filtered-uamerged-aligned-i1-lib002-B07-L001.bam\\n',\n",
       " 'filtered-uamerged-aligned-i1-lib002-C03-L001.bam\\n',\n",
       " 'filtered-uamerged-aligned-i1-lib002-C06-L001.bam\\n',\n",
       " 'filtered-uamerged-aligned-i1-lib002-C07-L001.bam\\n',\n",
       " 'filtered-uamerged-aligned-i1-lib002-C10-L001.bam\\n',\n",
       " 'filtered-uamerged-aligned-i1-lib002-C12-L001.bam\\n',\n",
       " 'filtered-uamerged-aligned-i1-lib002-D01-L001.bam\\n',\n",
       " 'filtered-uamerged-aligned-i1-lib002-D05-L001.bam\\n',\n",
       " 'filtered-uamerged-aligned-i1-lib002-D06-L001.bam\\n',\n",
       " 'filtered-uamerged-aligned-i1-lib002-D07-L001.bam\\n',\n",
       " 'filtered-uamerged-aligned-i1-lib002-D09-L001.bam\\n',\n",
       " 'filtered-uamerged-aligned-i1-lib002-E02-L001.bam\\n',\n",
       " 'filtered-uamerged-aligned-i1-lib002-E03-L001.bam\\n',\n",
       " 'filtered-uamerged-aligned-i1-lib002-E07-L001.bam\\n',\n",
       " 'filtered-uamerged-aligned-i1-lib002-F01-L001.bam\\n',\n",
       " 'filtered-uamerged-aligned-i1-lib002-F02-L001.bam\\n',\n",
       " 'filtered-uamerged-aligned-i1-lib002-F05-L001.bam\\n',\n",
       " 'filtered-uamerged-aligned-i1-lib002-F07-L001.bam\\n',\n",
       " 'filtered-uamerged-aligned-i1-lib002-F09-L001.bam\\n',\n",
       " 'filtered-uamerged-aligned-i1-lib002-G06-L001.bam\\n',\n",
       " 'filtered-uamerged-aligned-i1-lib002-G07-L001.bam\\n',\n",
       " 'filtered-uamerged-aligned-i1-lib002-G08-L001.bam\\n',\n",
       " 'filtered-uamerged-aligned-i1-lib002-H01-L001.bam\\n',\n",
       " 'filtered-uamerged-aligned-i1-lib002-H02-L001.bam\\n',\n",
       " 'filtered-uamerged-aligned-i1-lib002-H03-L001.bam\\n',\n",
       " 'filtered-uamerged-aligned-i1-lib002-H07-L001.bam\\n',\n",
       " 'filtered-uamerged-aligned-i1-lib002-H09-L001.bam\\n'}"
      ]
     },
     "execution_count": 8,
     "metadata": {},
     "output_type": "execute_result"
    }
   ],
   "source": [
    "# view the whole set\n",
    "set1"
   ]
  },
  {
   "cell_type": "code",
   "execution_count": 9,
   "metadata": {},
   "outputs": [
    {
     "data": {
      "text/plain": [
       "['filtered-uamerged-aligned-i1-lib001-A01-L001.bam\\n',\n",
       " 'filtered-uamerged-aligned-i1-lib001-A02-L001.bam\\n',\n",
       " 'filtered-uamerged-aligned-i1-lib001-A03-L001.bam\\n',\n",
       " 'filtered-uamerged-aligned-i1-lib001-A04-L001.bam\\n',\n",
       " 'filtered-uamerged-aligned-i1-lib001-A05-L001.bam\\n']"
      ]
     },
     "execution_count": 9,
     "metadata": {},
     "output_type": "execute_result"
    }
   ],
   "source": [
    "# view only part of the set\n",
    "list(sorted(set1))[:5]"
   ]
  },
  {
   "cell_type": "markdown",
   "metadata": {},
   "source": [
    "Same as above, but slice off \"L#\" and rest of end of filenames.\n",
    "\n",
    "Do this so that filenames will be == for downstream comparison."
   ]
  },
  {
   "cell_type": "code",
   "execution_count": 10,
   "metadata": {},
   "outputs": [],
   "source": [
    "set1 = set()\n",
    "with open(file1) as r1:\n",
    "    for line in r1:\n",
    "        set1.add(line[:line.rfind('-L')]) "
   ]
  },
  {
   "cell_type": "code",
   "execution_count": 11,
   "metadata": {},
   "outputs": [
    {
     "data": {
      "text/plain": [
       "['filtered-uamerged-aligned-i1-lib001-A05',\n",
       " 'filtered-uamerged-aligned-i1-lib002-B03',\n",
       " 'filtered-uamerged-aligned-i1-lib001-A11',\n",
       " 'filtered-uamerged-aligned-i1-lib002-H07',\n",
       " 'filtered-uamerged-aligned-i1-lib002-G07']"
      ]
     },
     "execution_count": 11,
     "metadata": {},
     "output_type": "execute_result"
    }
   ],
   "source": [
    "list(set1)[:5]"
   ]
  },
  {
   "cell_type": "markdown",
   "metadata": {},
   "source": [
    "Repeat for L2\n",
    "\n",
    "This could be improved by making one function that loops through the lists"
   ]
  },
  {
   "cell_type": "code",
   "execution_count": 12,
   "metadata": {},
   "outputs": [],
   "source": [
    "set2 = set()\n",
    "with open(file2) as r2:\n",
    "    for line in r2:\n",
    "        set2.add(line[:line.rfind('-L')])"
   ]
  },
  {
   "cell_type": "code",
   "execution_count": 13,
   "metadata": {},
   "outputs": [
    {
     "data": {
      "text/plain": [
       "['filtered-uamerged-aligned-i1-lib001-A05',\n",
       " 'filtered-uamerged-aligned-i1-lib002-B03',\n",
       " 'filtered-uamerged-aligned-i1-lib002-G10',\n",
       " 'filtered-uamerged-aligned-i1-lib002-H07',\n",
       " 'filtered-uamerged-aligned-i1-lib002-C05']"
      ]
     },
     "execution_count": 13,
     "metadata": {},
     "output_type": "execute_result"
    }
   ],
   "source": [
    "list(set2)[:5]"
   ]
  },
  {
   "cell_type": "markdown",
   "metadata": {},
   "source": [
    "Check the number of filenames in each set (list)"
   ]
  },
  {
   "cell_type": "code",
   "execution_count": 14,
   "metadata": {},
   "outputs": [
    {
     "name": "stdout",
     "output_type": "stream",
     "text": [
      "131\n",
      "165\n"
     ]
    }
   ],
   "source": [
    "print(len(set1))\n",
    "print(len(set2))"
   ]
  },
  {
   "cell_type": "markdown",
   "metadata": {},
   "source": [
    "## Create lists of sample pairs"
   ]
  },
  {
   "cell_type": "markdown",
   "metadata": {},
   "source": [
    "Get the filenames which are in both lists and store them in the variable \"paired\"."
   ]
  },
  {
   "cell_type": "code",
   "execution_count": 15,
   "metadata": {},
   "outputs": [
    {
     "name": "stdout",
     "output_type": "stream",
     "text": [
      "118\n"
     ]
    }
   ],
   "source": [
    "paired = set1.intersection(set2)\n",
    "print(len(paired))"
   ]
  },
  {
   "cell_type": "markdown",
   "metadata": {},
   "source": [
    "Suffixes need to be included in the generated lists of filenames"
   ]
  },
  {
   "cell_type": "code",
   "execution_count": 16,
   "metadata": {},
   "outputs": [],
   "source": [
    "# create suffix variables\n",
    "suffix1 = '-L001.bam'\n",
    "suffix2 = '-L002.bam'"
   ]
  },
  {
   "cell_type": "markdown",
   "metadata": {},
   "source": [
    "Using the \"paired\" set, generate two new lists of filenames with correct suffixes"
   ]
  },
  {
   "cell_type": "code",
   "execution_count": 17,
   "metadata": {},
   "outputs": [],
   "source": [
    "# create a new writable file and open it\n",
    "s1_out = open(file1.replace('.txt', '-paired.txt'), 'w')\n",
    "s2_out = open(file2.replace('.txt', '-paired.txt'), 'w')\n",
    "\n",
    "# add filenames from paired set to each file with correct suffixes\n",
    "for name in sorted(paired):\n",
    "    s1_out.write(name+suffix1+'\\n')\n",
    "    s2_out.write(name+suffix2+'\\n')\n",
    "\n",
    "# close files\n",
    "s1_out.close()\n",
    "s2_out.close()"
   ]
  },
  {
   "cell_type": "code",
   "execution_count": 18,
   "metadata": {},
   "outputs": [
    {
     "name": "stdout",
     "output_type": "stream",
     "text": [
      "cellslist.txt          lane2list-paired.txt   unpairedlist.txt\r\n",
      "lane1list-paired.txt   lane2list.txt          unpairedlistnolane.txt\r\n",
      "lane1list.txt          lanesmgdlist.txt\r\n"
     ]
    }
   ],
   "source": [
    "# check new files are present\n",
    "!ls"
   ]
  },
  {
   "cell_type": "code",
   "execution_count": 19,
   "metadata": {},
   "outputs": [
    {
     "name": "stdout",
     "output_type": "stream",
     "text": [
      "filtered-uamerged-aligned-i1-lib001-A01-L001.bam\r\n",
      "filtered-uamerged-aligned-i1-lib001-A02-L001.bam\r\n",
      "filtered-uamerged-aligned-i1-lib001-A03-L001.bam\r\n",
      "filtered-uamerged-aligned-i1-lib001-A04-L001.bam\r\n",
      "filtered-uamerged-aligned-i1-lib001-A05-L001.bam\r\n",
      "filtered-uamerged-aligned-i1-lib001-A06-L001.bam\r\n",
      "filtered-uamerged-aligned-i1-lib001-A07-L001.bam\r\n",
      "filtered-uamerged-aligned-i1-lib001-A08-L001.bam\r\n",
      "filtered-uamerged-aligned-i1-lib001-A09-L001.bam\r\n",
      "filtered-uamerged-aligned-i1-lib001-A10-L001.bam\r\n",
      "filtered-uamerged-aligned-i1-lib001-B01-L001.bam\r\n",
      "filtered-uamerged-aligned-i1-lib001-B02-L001.bam\r\n"
     ]
    }
   ],
   "source": [
    "!head -12 lane1list-paired.txt"
   ]
  },
  {
   "cell_type": "code",
   "execution_count": 20,
   "metadata": {},
   "outputs": [
    {
     "name": "stdout",
     "output_type": "stream",
     "text": [
      "filtered-uamerged-aligned-i1-lib001-A01-L002.bam\r\n",
      "filtered-uamerged-aligned-i1-lib001-A02-L002.bam\r\n",
      "filtered-uamerged-aligned-i1-lib001-A03-L002.bam\r\n",
      "filtered-uamerged-aligned-i1-lib001-A04-L002.bam\r\n",
      "filtered-uamerged-aligned-i1-lib001-A05-L002.bam\r\n",
      "filtered-uamerged-aligned-i1-lib001-A06-L002.bam\r\n",
      "filtered-uamerged-aligned-i1-lib001-A07-L002.bam\r\n",
      "filtered-uamerged-aligned-i1-lib001-A08-L002.bam\r\n",
      "filtered-uamerged-aligned-i1-lib001-A09-L002.bam\r\n",
      "filtered-uamerged-aligned-i1-lib001-A10-L002.bam\r\n",
      "filtered-uamerged-aligned-i1-lib001-B01-L002.bam\r\n",
      "filtered-uamerged-aligned-i1-lib001-B02-L002.bam\r\n"
     ]
    }
   ],
   "source": [
    "!head -12 lane2list-paired.txt"
   ]
  },
  {
   "cell_type": "markdown",
   "metadata": {},
   "source": [
    "## Generate a list of files that DON'T have a partner to be merged with"
   ]
  },
  {
   "cell_type": "code",
   "execution_count": 21,
   "metadata": {},
   "outputs": [
    {
     "name": "stdout",
     "output_type": "stream",
     "text": [
      "13\n"
     ]
    },
    {
     "data": {
      "text/plain": [
       "{'filtered-uamerged-aligned-i1-lib001-A11',\n",
       " 'filtered-uamerged-aligned-i1-lib001-A12',\n",
       " 'filtered-uamerged-aligned-i1-lib002-A09',\n",
       " 'filtered-uamerged-aligned-i1-lib002-C03',\n",
       " 'filtered-uamerged-aligned-i1-lib002-C10',\n",
       " 'filtered-uamerged-aligned-i1-lib002-D09',\n",
       " 'filtered-uamerged-aligned-i1-lib002-F05',\n",
       " 'filtered-uamerged-aligned-i1-lib002-F07',\n",
       " 'filtered-uamerged-aligned-i1-lib002-G07',\n",
       " 'filtered-uamerged-aligned-i1-lib002-G08',\n",
       " 'filtered-uamerged-aligned-i1-lib002-H02',\n",
       " 'filtered-uamerged-aligned-i1-lib002-H03',\n",
       " 'filtered-uamerged-aligned-i1-lib002-H09'}"
      ]
     },
     "execution_count": 21,
     "metadata": {},
     "output_type": "execute_result"
    }
   ],
   "source": [
    "# count & get filenames which are in set1 but not in set2\n",
    "set1_only = set1.difference(set2)\n",
    "print(len(set1_only))\n",
    "set1_only"
   ]
  },
  {
   "cell_type": "code",
   "execution_count": 22,
   "metadata": {},
   "outputs": [
    {
     "name": "stdout",
     "output_type": "stream",
     "text": [
      "47\n"
     ]
    },
    {
     "data": {
      "text/plain": [
       "{'filtered-uamerged-aligned-i1-lib002-A01',\n",
       " 'filtered-uamerged-aligned-i1-lib002-A03',\n",
       " 'filtered-uamerged-aligned-i1-lib002-A05',\n",
       " 'filtered-uamerged-aligned-i1-lib002-A07',\n",
       " 'filtered-uamerged-aligned-i1-lib002-A08',\n",
       " 'filtered-uamerged-aligned-i1-lib002-A10',\n",
       " 'filtered-uamerged-aligned-i1-lib002-A11',\n",
       " 'filtered-uamerged-aligned-i1-lib002-B04',\n",
       " 'filtered-uamerged-aligned-i1-lib002-B05',\n",
       " 'filtered-uamerged-aligned-i1-lib002-B06',\n",
       " 'filtered-uamerged-aligned-i1-lib002-B10',\n",
       " 'filtered-uamerged-aligned-i1-lib002-B11',\n",
       " 'filtered-uamerged-aligned-i1-lib002-B12',\n",
       " 'filtered-uamerged-aligned-i1-lib002-C01',\n",
       " 'filtered-uamerged-aligned-i1-lib002-C04',\n",
       " 'filtered-uamerged-aligned-i1-lib002-C05',\n",
       " 'filtered-uamerged-aligned-i1-lib002-C08',\n",
       " 'filtered-uamerged-aligned-i1-lib002-C11',\n",
       " 'filtered-uamerged-aligned-i1-lib002-D03',\n",
       " 'filtered-uamerged-aligned-i1-lib002-D04',\n",
       " 'filtered-uamerged-aligned-i1-lib002-D08',\n",
       " 'filtered-uamerged-aligned-i1-lib002-D10',\n",
       " 'filtered-uamerged-aligned-i1-lib002-D11',\n",
       " 'filtered-uamerged-aligned-i1-lib002-E01',\n",
       " 'filtered-uamerged-aligned-i1-lib002-E05',\n",
       " 'filtered-uamerged-aligned-i1-lib002-E06',\n",
       " 'filtered-uamerged-aligned-i1-lib002-E08',\n",
       " 'filtered-uamerged-aligned-i1-lib002-E10',\n",
       " 'filtered-uamerged-aligned-i1-lib002-E11',\n",
       " 'filtered-uamerged-aligned-i1-lib002-E12',\n",
       " 'filtered-uamerged-aligned-i1-lib002-F04',\n",
       " 'filtered-uamerged-aligned-i1-lib002-F06',\n",
       " 'filtered-uamerged-aligned-i1-lib002-F08',\n",
       " 'filtered-uamerged-aligned-i1-lib002-F10',\n",
       " 'filtered-uamerged-aligned-i1-lib002-F12',\n",
       " 'filtered-uamerged-aligned-i1-lib002-G01',\n",
       " 'filtered-uamerged-aligned-i1-lib002-G02',\n",
       " 'filtered-uamerged-aligned-i1-lib002-G03',\n",
       " 'filtered-uamerged-aligned-i1-lib002-G04',\n",
       " 'filtered-uamerged-aligned-i1-lib002-G05',\n",
       " 'filtered-uamerged-aligned-i1-lib002-G10',\n",
       " 'filtered-uamerged-aligned-i1-lib002-G11',\n",
       " 'filtered-uamerged-aligned-i1-lib002-H04',\n",
       " 'filtered-uamerged-aligned-i1-lib002-H05',\n",
       " 'filtered-uamerged-aligned-i1-lib002-H10',\n",
       " 'filtered-uamerged-aligned-i1-lib002-H11',\n",
       " 'filtered-uamerged-aligned-i1-lib002-H12'}"
      ]
     },
     "execution_count": 22,
     "metadata": {},
     "output_type": "execute_result"
    }
   ],
   "source": [
    "# count & get filenames which are in set2 but not in set1\n",
    "set2_only = set2.difference(set1)\n",
    "print(len(set2_only))\n",
    "set2_only"
   ]
  },
  {
   "cell_type": "code",
   "execution_count": 24,
   "metadata": {},
   "outputs": [],
   "source": [
    "# Generate a list.txt file with filenames that don't have pairs \n",
    "# remember to append .bam extension\n",
    "unpaired = open('unpairedlistnolane.txt', 'w')\n",
    "\n",
    "for name in sorted(set1_only):\n",
    "    unpaired.write(name+'.bam\\n')\n",
    "    \n",
    "for name in sorted(set2_only):\n",
    "    unpaired.write(name+'.bam\\n')    \n",
    "    \n",
    "unpaired.close()"
   ]
  },
  {
   "cell_type": "markdown",
   "metadata": {},
   "source": [
    "## Summary\n",
    "\n",
    "Before processing\n",
    "\n",
    "- 131 \"lane 1\" bam files\n",
    "- 165 \"lane 2\" bam files\n",
    "\n",
    "After processing\n",
    "\n",
    "- 118 \"lane 1\" & \"lane 2\" pairs\n",
    "- 13 \"lane 1\" bam files without a \"lane 2\" match\n",
    "- 47 \"lane 2\" bam files without a \"lane 1\" match"
   ]
  },
  {
   "cell_type": "code",
   "execution_count": null,
   "metadata": {},
   "outputs": [],
   "source": []
  }
 ],
 "metadata": {
  "kernelspec": {
   "display_name": "Python 3",
   "language": "python",
   "name": "python3"
  },
  "language_info": {
   "codemirror_mode": {
    "name": "ipython",
    "version": 3
   },
   "file_extension": ".py",
   "mimetype": "text/x-python",
   "name": "python",
   "nbconvert_exporter": "python",
   "pygments_lexer": "ipython3",
   "version": "3.7.3"
  },
  "varInspector": {
   "cols": {
    "lenName": 16,
    "lenType": 16,
    "lenVar": 40
   },
   "kernels_config": {
    "python": {
     "delete_cmd_postfix": "",
     "delete_cmd_prefix": "del ",
     "library": "var_list.py",
     "varRefreshCmd": "print(var_dic_list())"
    },
    "r": {
     "delete_cmd_postfix": ") ",
     "delete_cmd_prefix": "rm(",
     "library": "var_list.r",
     "varRefreshCmd": "cat(var_dic_list()) "
    }
   },
   "types_to_exclude": [
    "module",
    "function",
    "builtin_function_or_method",
    "instance",
    "_Feature"
   ],
   "window_display": false
  }
 },
 "nbformat": 4,
 "nbformat_minor": 2
}
